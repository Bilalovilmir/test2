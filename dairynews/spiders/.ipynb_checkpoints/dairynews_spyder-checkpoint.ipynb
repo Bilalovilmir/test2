{
 "cells": [
  {
   "cell_type": "code",
   "execution_count": 2,
   "metadata": {},
   "outputs": [],
   "source": [
    "# python 3\n",
    "import scrapy\n",
    "from urllib.parse import urljoin\n",
    "  \n",
    "class DairynewsSpider(scrapy.Spider):\n",
    "    name = 'dairynews1'\n",
    "    allowed_domains = ['dairynews.ru']\n",
    "    start_urls = ['https://www.dairynews.ru/company/']\n",
    " \n",
    "    def parse(self, response):\n",
    "        for post_link in response.xpath(\n",
    "                '/html/body/div[2]/div/main/div[7]/div/div/div[1]/div[1]/div[2]/div/div[1]/table/tbody/tr[1]/td[2]/a/text()').extract():\n",
    "            url = urljoin(response.url, post_link)\n",
    "            print(url)"
   ]
  },
  {
   "cell_type": "code",
   "execution_count": null,
   "metadata": {},
   "outputs": [],
   "source": []
  }
 ],
 "metadata": {
  "kernelspec": {
   "display_name": "Python 3",
   "language": "python",
   "name": "python3"
  },
  "language_info": {
   "codemirror_mode": {
    "name": "ipython",
    "version": 3
   },
   "file_extension": ".py",
   "mimetype": "text/x-python",
   "name": "python",
   "nbconvert_exporter": "python",
   "pygments_lexer": "ipython3",
   "version": "3.7.6"
  }
 },
 "nbformat": 4,
 "nbformat_minor": 4
}
